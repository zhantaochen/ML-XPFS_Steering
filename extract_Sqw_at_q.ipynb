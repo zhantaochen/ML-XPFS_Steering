{
 "cells": [
  {
   "cell_type": "code",
   "execution_count": 1,
   "metadata": {},
   "outputs": [
    {
     "name": "stderr",
     "output_type": "stream",
     "text": [
      "c:\\Users\\zhantao\\.conda\\envs\\quspin\\lib\\site-packages\\tqdm\\auto.py:22: TqdmWarning: IProgress not found. Please update jupyter and ipywidgets. See https://ipywidgets.readthedocs.io/en/stable/user_install.html\n",
      "  from .autonotebook import tqdm as notebook_tqdm\n"
     ]
    }
   ],
   "source": [
    "import glob\n",
    "import matplotlib.pyplot as plt\n",
    "import numpy as np\n",
    "import scipy\n",
    "import scipy.constants as const\n",
    "import torch\n",
    "from tqdm import tqdm\n",
    "import pandas as pd"
   ]
  },
  {
   "cell_type": "code",
   "execution_count": 2,
   "metadata": {},
   "outputs": [
    {
     "name": "stdout",
     "output_type": "stream",
     "text": [
      "Find 1000 files.\n"
     ]
    }
   ],
   "source": [
    "file_lst = glob.glob('../../SpinW_data_generation/MATLAB_SpinW/CrI3_data/20221110/*.mat')\n",
    "print(f\"Find {len(file_lst)} files.\")"
   ]
  },
  {
   "cell_type": "code",
   "execution_count": 3,
   "metadata": {},
   "outputs": [
    {
     "name": "stderr",
     "output_type": "stream",
     "text": [
      "100%|██████████| 1000/1000 [00:05<00:00, 169.34it/s]\n"
     ]
    }
   ],
   "source": [
    "q_idx = 0\n",
    "param_lst = []\n",
    "omega_lst = []\n",
    "inten_lst = []\n",
    "for file in tqdm(file_lst):\n",
    "    data = scipy.io.loadmat(file)\n",
    "    param = torch.tensor([data[\"J1\"][0,0], data[\"DM\"][0,0], data[\"K\"][0,0]])\n",
    "    nz_idx = np.nonzero(data['swConv'][:,q_idx])[0]\n",
    "    omega = torch.from_numpy(data['Evect'][0, nz_idx])\n",
    "    inten = torch.from_numpy(data['swConv'][nz_idx, q_idx])\n",
    "\n",
    "    if len(omega) == 1:\n",
    "        omega = torch.cat((omega, omega), dim=0)\n",
    "        inten = torch.cat((inten/2, inten/2), dim=0)\n",
    "    \n",
    "    if len(omega) <= 2:\n",
    "        param_lst.append(param)\n",
    "        omega_lst.append(omega)\n",
    "        inten_lst.append(inten)\n"
   ]
  },
  {
   "cell_type": "code",
   "execution_count": 4,
   "metadata": {},
   "outputs": [],
   "source": [
    "save_dict = {\n",
    "    \"param\": torch.vstack(param_lst),\n",
    "    \"omega\": torch.vstack(omega_lst),\n",
    "    \"inten\": torch.vstack(inten_lst),\n",
    "    \"note\": \"J1=[-2.5,0]; DM=[-1.0,0]; K=[0 0]; Jc=-0.6; Dz=-0.1; All zeros otherwise;\"\n",
    "}"
   ]
  },
  {
   "cell_type": "code",
   "execution_count": 5,
   "metadata": {},
   "outputs": [],
   "source": [
    "torch.save(save_dict, \"data/CrI3/20221110.pt\")"
   ]
  }
 ],
 "metadata": {
  "kernelspec": {
   "display_name": "Python 3.9.13 ('quspin')",
   "language": "python",
   "name": "python3"
  },
  "language_info": {
   "codemirror_mode": {
    "name": "ipython",
    "version": 3
   },
   "file_extension": ".py",
   "mimetype": "text/x-python",
   "name": "python",
   "nbconvert_exporter": "python",
   "pygments_lexer": "ipython3",
   "version": "3.9.13"
  },
  "orig_nbformat": 4,
  "vscode": {
   "interpreter": {
    "hash": "fc50cdd8f2fe56dc82a77fada559a7e4587e53334a8b210b0ff49ff5711cf4ba"
   }
  }
 },
 "nbformat": 4,
 "nbformat_minor": 2
}
