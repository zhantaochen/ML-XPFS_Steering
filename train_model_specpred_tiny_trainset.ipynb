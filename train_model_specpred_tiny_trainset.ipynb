{
 "cells": [
  {
   "cell_type": "code",
   "execution_count": 1,
   "metadata": {},
   "outputs": [
    {
     "name": "stderr",
     "output_type": "stream",
     "text": [
      "/Users/zhantaochen/opt/anaconda3/envs/admb/lib/python3.9/site-packages/tqdm/auto.py:22: TqdmWarning: IProgress not found. Please update jupyter and ipywidgets. See https://ipywidgets.readthedocs.io/en/stable/user_install.html\n",
      "  from .autonotebook import tqdm as notebook_tqdm\n"
     ]
    }
   ],
   "source": [
    "import pytorch_lightning as pl\n",
    "from pytorch_lightning.callbacks import TQDMProgressBar\n",
    "\n",
    "import torch\n",
    "from torch.utils.data import TensorDataset, DataLoader\n",
    "from src.model_specpred import SpectrumPredictor\n",
    "from sklearn.model_selection import train_test_split\n",
    "\n",
    "import matplotlib.pyplot as plt\n",
    "\n",
    "torch.set_default_dtype(torch.float64)"
   ]
  },
  {
   "cell_type": "code",
   "execution_count": 2,
   "metadata": {},
   "outputs": [
    {
     "name": "stdout",
     "output_type": "stream",
     "text": [
      "print some values for further reference:\n",
      "training:\n",
      " tensor([[-2.6756, -0.2057],\n",
      "        [-1.0074, -0.8722],\n",
      "        [-1.4652, -0.3473],\n",
      "        [-1.9456, -0.8723],\n",
      "        [-1.0767, -0.4294]])\n",
      "validation:\n",
      " tensor([[-1.3288, -0.7558],\n",
      "        [-2.7176, -0.3953],\n",
      "        [-2.4942, -0.3290],\n",
      "        [-2.7871, -0.9420],\n",
      "        [-2.8615, -0.5053]])\n",
      "testing:\n",
      " tensor([[-1.9341, -0.6214],\n",
      "        [-1.4045, -0.4092],\n",
      "        [-2.5118, -0.0429],\n",
      "        [-1.4161, -0.0631],\n",
      "        [-1.0095, -0.7882]])\n"
     ]
    }
   ],
   "source": [
    "data = torch.load(\"data/CrI3/20221110.pt\")\n",
    "X = data['param'][:,:2]\n",
    "Y = torch.cat((data['omega'], data['inten']), dim=1)\n",
    "\n",
    "X_train, X_val_test, Y_train, Y_val_test = train_test_split(X, Y, test_size=8/10, random_state=42)\n",
    "X_val, X_test, Y_val, Y_test = train_test_split(X_val_test, Y_val_test, test_size=1/2, random_state=42)\n",
    "\n",
    "print(\"print some values for further reference:\")\n",
    "print(\"training:\\n\", X_train[:5])\n",
    "print(\"validation:\\n\", X_val[:5])\n",
    "print(\"testing:\\n\", X_test[:5])\n",
    "\n",
    "train_dataset = TensorDataset(X_train, Y_train)\n",
    "train_dataloader = DataLoader(train_dataset, batch_size=32, shuffle=True)\n",
    "\n",
    "val_dataset = TensorDataset(X_val, Y_val)\n",
    "val_dataloader = DataLoader(val_dataset, batch_size=32, shuffle=False)"
   ]
  },
  {
   "cell_type": "code",
   "execution_count": 3,
   "metadata": {},
   "outputs": [],
   "source": [
    "model_spec = SpectrumPredictor(num_param_in=X.shape[1], num_mode=2)"
   ]
  },
  {
   "cell_type": "code",
   "execution_count": 4,
   "metadata": {},
   "outputs": [
    {
     "name": "stderr",
     "output_type": "stream",
     "text": [
      "GPU available: False, used: False\n",
      "TPU available: False, using: 0 TPU cores\n",
      "IPU available: False, using: 0 IPUs\n",
      "HPU available: False, using: 0 HPUs\n",
      "\n",
      "  | Name   | Type       | Params\n",
      "--------------------------------------\n",
      "0 | fc_net | Sequential | 42.2 K\n",
      "--------------------------------------\n",
      "42.2 K    Trainable params\n",
      "0         Non-trainable params\n",
      "42.2 K    Total params\n",
      "0.169     Total estimated model params size (MB)\n"
     ]
    },
    {
     "name": "stdout",
     "output_type": "stream",
     "text": [
      "Sanity Checking DataLoader 0:   0%|          | 0/2 [00:00<?, ?it/s]"
     ]
    },
    {
     "name": "stderr",
     "output_type": "stream",
     "text": [
      "/Users/zhantaochen/opt/anaconda3/envs/admb/lib/python3.9/site-packages/pytorch_lightning/trainer/connectors/data_connector.py:236: PossibleUserWarning: The dataloader, val_dataloader 0, does not have many workers which may be a bottleneck. Consider increasing the value of the `num_workers` argument` (try 10 which is the number of cpus on this machine) in the `DataLoader` init to improve performance.\n",
      "  rank_zero_warn(\n"
     ]
    },
    {
     "name": "stdout",
     "output_type": "stream",
     "text": [
      "                                                                           "
     ]
    },
    {
     "name": "stderr",
     "output_type": "stream",
     "text": [
      "/Users/zhantaochen/opt/anaconda3/envs/admb/lib/python3.9/site-packages/pytorch_lightning/trainer/connectors/data_connector.py:236: PossibleUserWarning: The dataloader, train_dataloader, does not have many workers which may be a bottleneck. Consider increasing the value of the `num_workers` argument` (try 10 which is the number of cpus on this machine) in the `DataLoader` init to improve performance.\n",
      "  rank_zero_warn(\n"
     ]
    },
    {
     "name": "stdout",
     "output_type": "stream",
     "text": [
      "Epoch 2154:  60%|██████    | 12/20 [00:00<00:00, 160.47it/s, loss=0.00258, v_num=4]"
     ]
    },
    {
     "name": "stderr",
     "output_type": "stream",
     "text": [
      "/Users/zhantaochen/opt/anaconda3/envs/admb/lib/python3.9/site-packages/pytorch_lightning/trainer/trainer.py:653: UserWarning: Detected KeyboardInterrupt, attempting graceful shutdown...\n",
      "  rank_zero_warn(\"Detected KeyboardInterrupt, attempting graceful shutdown...\")\n"
     ]
    }
   ],
   "source": [
    "from pytorch_lightning.callbacks import ModelCheckpoint\n",
    "\n",
    "checkpoint_callback = ModelCheckpoint(\n",
    "    save_on_train_epoch_end=False, save_last=True, save_top_k=1, monitor=\"val_loss\"\n",
    ")\n",
    "\n",
    "trainer = pl.Trainer(\n",
    "    max_epochs=10000, accelerator=\"cpu\",\n",
    "    callbacks=[checkpoint_callback, TQDMProgressBar(refresh_rate=2)],\n",
    "    log_every_n_steps=2, devices=1, \n",
    "    enable_checkpointing=True,\n",
    "    default_root_dir=\"training_logs\"\n",
    "    )\n",
    "\n",
    "trainer.fit(model_spec, train_dataloader, val_dataloader)"
   ]
  },
  {
   "cell_type": "code",
   "execution_count": 5,
   "metadata": {},
   "outputs": [
    {
     "data": {
      "text/plain": [
       "SpectrumPredictor(\n",
       "  (fc_net): Sequential(\n",
       "    (0): Linear(in_features=2, out_features=256, bias=True)\n",
       "    (1): ReLU()\n",
       "    (2): Linear(in_features=256, out_features=128, bias=True)\n",
       "    (3): ReLU()\n",
       "    (4): Linear(in_features=128, out_features=64, bias=True)\n",
       "    (5): ReLU()\n",
       "    (6): Linear(in_features=64, out_features=4, bias=False)\n",
       "  )\n",
       ")"
      ]
     },
     "execution_count": 5,
     "metadata": {},
     "output_type": "execute_result"
    }
   ],
   "source": [
    "model_spec.load_from_checkpoint(\"training_logs/lightning_logs/version_52/checkpoints/epoch=713-step=17850.ckpt\")"
   ]
  },
  {
   "cell_type": "code",
   "execution_count": 10,
   "metadata": {},
   "outputs": [],
   "source": [
    "Y_val_pred = []\n",
    "with torch.no_grad():\n",
    "    for x_val in X_val:\n",
    "        Y_val_pred.append(model_spec(x_val.to(model_spec.device)).detach())\n",
    "Y_val_pred = torch.vstack(Y_val_pred).cpu()"
   ]
  },
  {
   "cell_type": "code",
   "execution_count": 11,
   "metadata": {},
   "outputs": [
    {
     "data": {
      "image/png": "[encoded data removed]",
      "text/plain": [
       "<Figure size 500x500 with 4 Axes>"
      ]
     },
     "metadata": {},
     "output_type": "display_data"
    }
   ],
   "source": [
    "labels = ['$\\omega_1$', '$\\omega_2$', '$S_1$', '$S_2$']\n",
    "\n",
    "fig = plt.figure(figsize=(5,5))\n",
    "gs = plt.GridSpec(2,2)\n",
    "for i in range(4):\n",
    "    ax = fig.add_subplot(gs[i])\n",
    "    ax.plot([-100,100], [-100,100], 'k', linewidth=0.5)\n",
    "    ax.scatter(Y_val[:,i], Y_val_pred[:,i], s=5)\n",
    "    ax.set_aspect('equal')\n",
    "    ax.set_xlim([-0.1*Y_val[:,i].max(), 1.1*Y_val[:,i].max()])\n",
    "    ax.set_ylim([-0.1*Y_val[:,i].max(), 1.1*Y_val[:,i].max()])\n",
    "    ax.set_xlabel(f\"True {labels[i]}\")\n",
    "    ax.set_ylabel(f\"Predicted {labels[i]}\")\n",
    "\n",
    "fig.tight_layout()"
   ]
  },
  {
   "cell_type": "code",
   "execution_count": 38,
   "metadata": {},
   "outputs": [],
   "source": [
    "x_val = X_val[0]\n",
    "y_val_pred = model_spec(x_val)"
   ]
  },
  {
   "cell_type": "code",
   "execution_count": 39,
   "metadata": {},
   "outputs": [
    {
     "data": {
      "text/plain": [
       "tensor([ 6.1968, 16.1807,  5.2981,  3.7198], grad_fn=<SqueezeBackward3>)"
      ]
     },
     "execution_count": 39,
     "metadata": {},
     "output_type": "execute_result"
    }
   ],
   "source": [
    "y_val_pred"
   ]
  }
 ],
 "metadata": {
  "kernelspec": {
   "display_name": "Python 3.9.13 ('admb')",
   "language": "python",
   "name": "python3"
  },
  "language_info": {
   "codemirror_mode": {
    "name": "ipython",
    "version": 3
   },
   "file_extension": ".py",
   "mimetype": "text/x-python",
   "name": "python",
   "nbconvert_exporter": "python",
   "pygments_lexer": "ipython3",
   "version": "3.9.13"
  },
  "orig_nbformat": 4,
  "vscode": {
   "interpreter": {
    "hash": "df951ff41036952490e3866a7fc28ef1b06479c4f5fe49c4ef72a2aedd1354ed"
   }
  }
 },
 "nbformat": 4,
 "nbformat_minor": 2
}
