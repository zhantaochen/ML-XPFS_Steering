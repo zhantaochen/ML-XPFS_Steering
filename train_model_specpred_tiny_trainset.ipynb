{
 "cells": [
  {
   "cell_type": "code",
   "execution_count": 1,
   "metadata": {},
   "outputs": [
    {
     "name": "stderr",
     "output_type": "stream",
     "text": [
      "/global/homes/z/zhantao/.conda/envs/sqt/lib/python3.9/site-packages/tqdm/auto.py:22: TqdmWarning: IProgress not found. Please update jupyter and ipywidgets. See https://ipywidgets.readthedocs.io/en/stable/user_install.html\n",
      "  from .autonotebook import tqdm as notebook_tqdm\n"
     ]
    }
   ],
   "source": [
    "import pytorch_lightning as pl\n",
    "from pytorch_lightning.callbacks import TQDMProgressBar\n",
    "\n",
    "import torch\n",
    "from torch.utils.data import TensorDataset, DataLoader\n",
    "from src.model_specpred import SpectrumPredictor\n",
    "from sklearn.model_selection import train_test_split\n",
    "\n",
    "import matplotlib.pyplot as plt\n",
    "\n",
    "torch.set_default_dtype(torch.float64)"
   ]
  },
  {
   "cell_type": "code",
   "execution_count": 2,
   "metadata": {},
   "outputs": [
    {
     "name": "stdout",
     "output_type": "stream",
     "text": [
      "print some values for further reference:\n",
      "training:\n",
      " tensor([[-1.0158, -0.0140],\n",
      "        [-2.4979, -0.1462],\n",
      "        [-2.8272, -0.4800],\n",
      "        [-1.4898, -0.6226],\n",
      "        [-1.1844, -0.0254]])\n",
      "validation:\n",
      " tensor([[-1.4781, -0.1038],\n",
      "        [-1.9327, -0.3722],\n",
      "        [-1.3576, -0.7201],\n",
      "        [-2.7287, -0.8826],\n",
      "        [-2.1087, -0.1560]])\n",
      "testing:\n",
      " tensor([[-2.7746, -0.3517],\n",
      "        [-2.9461, -0.6775],\n",
      "        [-1.6326, -0.5627],\n",
      "        [-2.0043, -0.0640],\n",
      "        [-1.9798, -0.2081]])\n"
     ]
    }
   ],
   "source": [
    "data = torch.load(\"data/CrI3/20221110.pt\")\n",
    "X = data['param'][:,:2]\n",
    "Y = torch.cat((data['omega'], data['inten']), dim=1)\n",
    "\n",
    "X_train, X_val_test, Y_train, Y_val_test = train_test_split(X, Y, test_size=9/10, random_state=42)\n",
    "X_val, X_test, Y_val, Y_test = train_test_split(X_val_test, Y_val_test, test_size=1/2, random_state=42)\n",
    "\n",
    "print(\"print some values for further reference:\")\n",
    "print(\"training:\\n\", X_train[:5])\n",
    "print(\"validation:\\n\", X_val[:5])\n",
    "print(\"testing:\\n\", X_test[:5])\n",
    "\n",
    "train_dataset = TensorDataset(X_train, Y_train)\n",
    "train_dataloader = DataLoader(train_dataset, batch_size=32, shuffle=True)\n",
    "\n",
    "val_dataset = TensorDataset(X_val, Y_val)\n",
    "val_dataloader = DataLoader(val_dataset, batch_size=32, shuffle=False)"
   ]
  },
  {
   "cell_type": "code",
   "execution_count": 3,
   "metadata": {},
   "outputs": [],
   "source": [
    "model_spec = SpectrumPredictor(num_param_in=X.shape[1], num_mode=2)"
   ]
  },
  {
   "cell_type": "code",
   "execution_count": 4,
   "metadata": {},
   "outputs": [
    {
     "name": "stderr",
     "output_type": "stream",
     "text": [
      "/global/homes/z/zhantao/.conda/envs/sqt/lib/python3.9/site-packages/lightning_fabric/plugins/environments/slurm.py:166: PossibleUserWarning: The `srun` command is available on your system but is not used. HINT: If your intention is to run Lightning on SLURM, prepend your python command with `srun` like so: srun python /global/homes/z/zhantao/.conda/envs/sqt/lib/python3. ...\n",
      "  rank_zero_warn(\n",
      "GPU available: True (cuda), used: True\n",
      "TPU available: False, using: 0 TPU cores\n",
      "IPU available: False, using: 0 IPUs\n",
      "HPU available: False, using: 0 HPUs\n",
      "/global/homes/z/zhantao/.conda/envs/sqt/lib/python3.9/site-packages/pytorch_lightning/trainer/connectors/logger_connector/logger_connector.py:67: UserWarning: Starting from v1.9.0, `tensorboardX` has been removed as a dependency of the `pytorch_lightning` package, due to potential conflicts with other packages in the ML ecosystem. For this reason, `logger=True` will use `CSVLogger` as the default logger, unless the `tensorboard` or `tensorboardX` packages are found. Please `pip install lightning[extra]` or one of them to enable TensorBoard support by default\n",
      "  warning_cache.warn(\n",
      "You are using a CUDA device ('NVIDIA A100-PCIE-40GB') that has Tensor Cores. To properly utilize them, you should set `torch.set_float32_matmul_precision('medium' | 'high')` which will trade-off precision for performance. For more details, read https://pytorch.org/docs/stable/generated/torch.set_float32_matmul_precision.html#torch.set_float32_matmul_precision\n",
      "LOCAL_RANK: 0 - CUDA_VISIBLE_DEVICES: [0]\n",
      "\n",
      "  | Name   | Type       | Params\n",
      "--------------------------------------\n",
      "0 | fc_net | Sequential | 42.2 K\n",
      "--------------------------------------\n",
      "42.2 K    Trainable params\n",
      "0         Non-trainable params\n",
      "42.2 K    Total params\n",
      "0.169     Total estimated model params size (MB)\n"
     ]
    },
    {
     "name": "stdout",
     "output_type": "stream",
     "text": [
      "Sanity Checking DataLoader 0:   0%|          | 0/2 [00:00<?, ?it/s]"
     ]
    },
    {
     "name": "stderr",
     "output_type": "stream",
     "text": [
      "/global/homes/z/zhantao/.conda/envs/sqt/lib/python3.9/site-packages/pytorch_lightning/trainer/connectors/data_connector.py:224: PossibleUserWarning: The dataloader, val_dataloader 0, does not have many workers which may be a bottleneck. Consider increasing the value of the `num_workers` argument` (try 256 which is the number of cpus on this machine) in the `DataLoader` init to improve performance.\n",
      "  rank_zero_warn(\n"
     ]
    },
    {
     "name": "stdout",
     "output_type": "stream",
     "text": [
      "                                                                           "
     ]
    },
    {
     "name": "stderr",
     "output_type": "stream",
     "text": [
      "/global/homes/z/zhantao/.conda/envs/sqt/lib/python3.9/site-packages/pytorch_lightning/trainer/connectors/data_connector.py:224: PossibleUserWarning: The dataloader, train_dataloader, does not have many workers which may be a bottleneck. Consider increasing the value of the `num_workers` argument` (try 256 which is the number of cpus on this machine) in the `DataLoader` init to improve performance.\n",
      "  rank_zero_warn(\n"
     ]
    },
    {
     "name": "stdout",
     "output_type": "stream",
     "text": [
      "Epoch 9999: 100%|██████████| 19/19 [00:00<00:00, 49.50it/s, loss=0.00133, v_num=5] "
     ]
    },
    {
     "name": "stderr",
     "output_type": "stream",
     "text": [
      "`Trainer.fit` stopped: `max_epochs=10000` reached.\n"
     ]
    },
    {
     "name": "stdout",
     "output_type": "stream",
     "text": [
      "Epoch 9999: 100%|██████████| 19/19 [00:00<00:00, 49.29it/s, loss=0.00133, v_num=5]\n"
     ]
    }
   ],
   "source": [
    "from pytorch_lightning.callbacks import ModelCheckpoint\n",
    "\n",
    "checkpoint_callback = ModelCheckpoint(\n",
    "    save_on_train_epoch_end=False, save_last=True, save_top_k=1, monitor=\"val_loss\"\n",
    ")\n",
    "\n",
    "trainer = pl.Trainer(\n",
    "    max_epochs=10000, accelerator=\"gpu\",\n",
    "    callbacks=[checkpoint_callback],\n",
    "    log_every_n_steps=2, devices=1, \n",
    "    enable_checkpointing=True,\n",
    "    default_root_dir=\"training_logs\"\n",
    "    )\n",
    "\n",
    "trainer.fit(model_spec, train_dataloader, val_dataloader)"
   ]
  },
  {
   "cell_type": "code",
   "execution_count": null,
   "metadata": {},
   "outputs": [],
   "source": [
    "model_spec.load_from_checkpoint(\"training_logs/lightning_logs/version_52/checkpoints/epoch=713-step=17850.ckpt\")"
   ]
  },
  {
   "cell_type": "code",
   "execution_count": null,
   "metadata": {},
   "outputs": [],
   "source": [
    "Y_val_pred = []\n",
    "with torch.no_grad():\n",
    "    for x_val in X_val:\n",
    "        Y_val_pred.append(model_spec(x_val.to(model_spec.device)).detach())\n",
    "Y_val_pred = torch.vstack(Y_val_pred).cpu()"
   ]
  },
  {
   "cell_type": "code",
   "execution_count": null,
   "metadata": {},
   "outputs": [],
   "source": [
    "labels = ['$\\omega_1$', '$\\omega_2$', '$S_1$', '$S_2$']\n",
    "\n",
    "fig = plt.figure(figsize=(5,5))\n",
    "gs = plt.GridSpec(2,2)\n",
    "for i in range(4):\n",
    "    ax = fig.add_subplot(gs[i])\n",
    "    ax.plot([-100,100], [-100,100], 'k', linewidth=0.5)\n",
    "    ax.scatter(Y_val[:,i], Y_val_pred[:,i], s=5)\n",
    "    ax.set_aspect('equal')\n",
    "    ax.set_xlim([-0.1*Y_val[:,i].max(), 1.1*Y_val[:,i].max()])\n",
    "    ax.set_ylim([-0.1*Y_val[:,i].max(), 1.1*Y_val[:,i].max()])\n",
    "    ax.set_xlabel(f\"True {labels[i]}\")\n",
    "    ax.set_ylabel(f\"Predicted {labels[i]}\")\n",
    "\n",
    "fig.tight_layout()"
   ]
  },
  {
   "cell_type": "code",
   "execution_count": null,
   "metadata": {},
   "outputs": [],
   "source": [
    "x_val = X_val[0]\n",
    "y_val_pred = model_spec(x_val)"
   ]
  },
  {
   "cell_type": "code",
   "execution_count": null,
   "metadata": {},
   "outputs": [],
   "source": [
    "y_val_pred"
   ]
  }
 ],
 "metadata": {
  "kernelspec": {
   "display_name": "sqt",
   "language": "python",
   "name": "python3"
  },
  "language_info": {
   "codemirror_mode": {
    "name": "ipython",
    "version": 3
   },
   "file_extension": ".py",
   "mimetype": "text/x-python",
   "name": "python",
   "nbconvert_exporter": "python",
   "pygments_lexer": "ipython3",
   "version": "3.9.16"
  },
  "orig_nbformat": 4,
  "vscode": {
   "interpreter": {
    "hash": "3a3b593da52fbfac05b7f9fcdbf2aa98044d5a6f17c00871158f033f019bd36e"
   }
  }
 },
 "nbformat": 4,
 "nbformat_minor": 2
}
