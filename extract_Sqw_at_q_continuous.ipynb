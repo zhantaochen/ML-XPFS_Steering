{
 "cells": [
  {
   "cell_type": "code",
   "execution_count": 1,
   "metadata": {},
   "outputs": [
    {
     "name": "stderr",
     "output_type": "stream",
     "text": [
      "c:\\Users\\zhantao\\.conda\\envs\\quspin\\lib\\site-packages\\tqdm\\auto.py:22: TqdmWarning: IProgress not found. Please update jupyter and ipywidgets. See https://ipywidgets.readthedocs.io/en/stable/user_install.html\n",
      "  from .autonotebook import tqdm as notebook_tqdm\n"
     ]
    }
   ],
   "source": [
    "import glob\n",
    "import matplotlib.pyplot as plt\n",
    "import numpy as np\n",
    "import scipy\n",
    "import scipy.constants as const\n",
    "import torch\n",
    "from tqdm import tqdm\n",
    "import pandas as pd\n",
    "from src.utils_model import lorentzian_on_grid, array2tensor, tensor2array"
   ]
  },
  {
   "cell_type": "code",
   "execution_count": 2,
   "metadata": {},
   "outputs": [
    {
     "name": "stdout",
     "output_type": "stream",
     "text": [
      "Find 1000 files.\n"
     ]
    }
   ],
   "source": [
    "file_lst = glob.glob('../../SpinW_data_generation/MATLAB_SpinW/CrI3_data/20221110/*.mat')\n",
    "print(f\"Find {len(file_lst)} files.\")"
   ]
  },
  {
   "cell_type": "code",
   "execution_count": 3,
   "metadata": {},
   "outputs": [],
   "source": [
    "from scipy.interpolate import interp1d\n",
    "\n",
    "def lorentzian_on_grid(center, Gamma, intensity, w_grid):\n",
    "    w_grid_large = torch.arange(\n",
    "        min(w_grid.min(), center-10*Gamma), \n",
    "        max(w_grid.max(), center+10*Gamma) + (w_grid[1] - w_grid[0])*2, \n",
    "        w_grid[1] - w_grid[0]\n",
    "        )\n",
    "    assert w_grid_large.min() <= w_grid.min()\n",
    "    assert w_grid_large.max() >= w_grid.max()\n",
    "    l = 1 /np.pi * 0.5*Gamma / ((w_grid_large-center)**2 + (0.5*Gamma)**2)\n",
    "    l =  intensity * l / torch.trapz(l, w_grid_large)\n",
    "    func = interp1d(tensor2array(w_grid_large), tensor2array(l))\n",
    "    l_out = func(tensor2array(w_grid))\n",
    "    return array2tensor(l_out)"
   ]
  },
  {
   "cell_type": "code",
   "execution_count": 4,
   "metadata": {},
   "outputs": [],
   "source": [
    "omega = torch.linspace(0, 25, 101)"
   ]
  },
  {
   "cell_type": "code",
   "execution_count": 5,
   "metadata": {},
   "outputs": [
    {
     "name": "stderr",
     "output_type": "stream",
     "text": [
      "100%|██████████| 1000/1000 [00:05<00:00, 169.22it/s]\n"
     ]
    }
   ],
   "source": [
    "q_idx = 0\n",
    "Gamma = 1.0\n",
    "param_lst = []\n",
    "omega_discrete_lst = []\n",
    "inten_discrete_lst = []\n",
    "inten_lst = []\n",
    "for file in tqdm(file_lst):\n",
    "    data = scipy.io.loadmat(file)\n",
    "    param = torch.tensor([data[\"J1\"][0,0], data[\"DM\"][0,0], data[\"K\"][0,0]])\n",
    "    # inten = torch.from_numpy(data['swConv'][:, q_idx])\n",
    "\n",
    "    nz_idx = np.nonzero(data['swConv'][:,q_idx])[0]\n",
    "    omega_discrete = torch.from_numpy(data['Evect'][0, nz_idx])\n",
    "    inten_discrete = torch.from_numpy(data['swConv'][nz_idx, q_idx])\n",
    "\n",
    "    inten = torch.zeros_like(omega)\n",
    "    for i in range(len(nz_idx)):\n",
    "        inten += lorentzian_on_grid(omega_discrete[i], Gamma, inten_discrete[i], omega)\n",
    "    \n",
    "    param_lst.append(param)\n",
    "    inten_lst.append(inten)\n",
    "    omega_discrete_lst.append(omega_discrete)\n",
    "    inten_discrete_lst.append(inten_discrete)\n",
    "\n",
    "param_lst = torch.vstack(param_lst)\n",
    "inten_lst = torch.vstack(inten_lst)"
   ]
  },
  {
   "cell_type": "code",
   "execution_count": 6,
   "metadata": {},
   "outputs": [],
   "source": [
    "mask = data['omega'][:,q_idx].real >= 0\n",
    "omegas = data['omega'][:,q_idx].real[mask]"
   ]
  },
  {
   "cell_type": "code",
   "execution_count": 9,
   "metadata": {},
   "outputs": [],
   "source": [
    "save_dict = {\n",
    "    \"param\": param_lst,\n",
    "    \"omega\": omega,\n",
    "    \"inten\": inten_lst,\n",
    "    \"omega_discrete\": omega_discrete_lst,\n",
    "    \"inten_discrete\": inten_discrete_lst,\n",
    "    \"note\": \"J1=[-2.5,0]; DM=[-1.0,0]; K=[0 0]; Jc=-0.6; Dz=-0.1; All zeros otherwise;\"\n",
    "}"
   ]
  },
  {
   "cell_type": "code",
   "execution_count": 8,
   "metadata": {},
   "outputs": [],
   "source": [
    "torch.save(save_dict, \"data/CrI3/20221110_continuous.pt\")"
   ]
  }
 ],
 "metadata": {
  "kernelspec": {
   "display_name": "Python 3.9.13 ('quspin')",
   "language": "python",
   "name": "python3"
  },
  "language_info": {
   "codemirror_mode": {
    "name": "ipython",
    "version": 3
   },
   "file_extension": ".py",
   "mimetype": "text/x-python",
   "name": "python",
   "nbconvert_exporter": "python",
   "pygments_lexer": "ipython3",
   "version": "3.9.13"
  },
  "orig_nbformat": 4,
  "vscode": {
   "interpreter": {
    "hash": "fc50cdd8f2fe56dc82a77fada559a7e4587e53334a8b210b0ff49ff5711cf4ba"
   }
  }
 },
 "nbformat": 4,
 "nbformat_minor": 2
}
